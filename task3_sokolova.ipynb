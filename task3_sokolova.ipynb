{
 "cells": [
  {
   "cell_type": "markdown",
   "metadata": {},
   "source": [
    "# Домашнее задание №3\n",
    "## 1\tЗагрузить из БД данные о параметрах заемщиках (из второго задания) и флаги {дефолт/недефолт} на горизонте 1 год. "
   ]
  },
  {
   "cell_type": "code",
   "execution_count": 1,
   "metadata": {},
   "outputs": [],
   "source": [
    "import sqlite3\n",
    "import datetime\n",
    "import pandas as pd\n",
    "import numpy as np\n",
    "import matplotlib.pyplot as plt"
   ]
  },
  {
   "cell_type": "code",
   "execution_count": 2,
   "metadata": {},
   "outputs": [],
   "source": [
    "#соединяемся с созданной в задании 1 базой данных data_base\n",
    "conn = sqlite3.connect(\"data_base.db\")\n",
    "cursor = conn.cursor()\n",
    "\n",
    "payments_table = pd.read_sql_query(\"SELECT * FROM payments\", conn)"
   ]
  },
  {
   "cell_type": "code",
   "execution_count": 3,
   "metadata": {},
   "outputs": [],
   "source": [
    "#изменяемая переменная горизонта риска соответсвует заданию (1 год = 12 месяцев)\n",
    "risk_horizon = 12"
   ]
  },
  {
   "cell_type": "code",
   "execution_count": 4,
   "metadata": {},
   "outputs": [],
   "source": [
    "#Создадим переменную, в которую будут добавляться данные типа (номер контракта, дата дефолта, флаг дефолт/недефолт)\n",
    "default_risk_horizon = []\n",
    "\n",
    "contract_number = list(payments_table['contract_number'])\n",
    "contract_number_unique = list(set(contract_number))\n",
    "\n",
    "for i in contract_number_unique:\n",
    "    table = payments_table[payments_table['contract_number'] == i]\n",
    "    if table.shape[0] >= risk_horizon:\n",
    "        table = table[:risk_horizon]\n",
    "        table = table.reset_index()\n",
    "        for j in range(0, table.shape[0]-3):\n",
    "            if (table['amount_paid'][j] < table['amount_due'][j] and table['amount_paid'][j+1] < table['amount_due'][j+1] and\n",
    "                table['amount_paid'][j+2] < table['amount_due'][j+2] and table['amount_paid'][j+3] < table['amount_due'][j+3]):\n",
    "                default_date = table['date'][j + 3]\n",
    "                default_date = (str(pd.to_datetime(default_date).year) + '-' + str(pd.to_datetime(default_date).month) + \n",
    "                                '-' + str(pd.to_datetime(default_date).day))\n",
    "                while (i, '0000-00-00', 0) in default_risk_horizon: #Здесь мы лезим в общий список просрочек и контрактов, просто фиктивные переменные 0 и 1 не подойдут\n",
    "                                default_risk_horizon.remove ((i, '0000-00-00', 0)) #0000-00-00 для удобства обозначения год-месяц-день при отсутвии дефолта, далее дроп\n",
    "                default_risk_horizon.append((i, default_date, 1)) \n",
    "                break \n",
    "            else: default_risk_horizon.append((i, '0000-00-00', 0))"
   ]
  },
  {
   "cell_type": "code",
   "execution_count": 5,
   "metadata": {},
   "outputs": [
    {
     "name": "stdout",
     "output_type": "stream",
     "text": [
      "59\n"
     ]
    },
    {
     "data": {
      "text/plain": [
       "[(100441, '0000-00-00', 0),\n",
       " (100368, '0000-00-00', 0),\n",
       " (100610, '0000-00-00', 0),\n",
       " (100684, '0000-00-00', 0),\n",
       " (100703, '0000-00-00', 0),\n",
       " (100206, '0000-00-00', 0),\n",
       " (100520, '0000-00-00', 0),\n",
       " (100648, '0000-00-00', 0),\n",
       " (100122, '0000-00-00', 0),\n",
       " (100506, '0000-00-00', 0),\n",
       " (100068, '0000-00-00', 0),\n",
       " (100614, '0000-00-00', 0),\n",
       " (100933, '0000-00-00', 0),\n",
       " (100476, '0000-00-00', 0),\n",
       " (100022, '0000-00-00', 0),\n",
       " (100524, '0000-00-00', 0),\n",
       " (100689, '0000-00-00', 0),\n",
       " (100872, '0000-00-00', 0),\n",
       " (100493, '0000-00-00', 0),\n",
       " (100932, '0000-00-00', 0),\n",
       " (100582, '0000-00-00', 0),\n",
       " (100585, '0000-00-00', 0),\n",
       " (100847, '0000-00-00', 0),\n",
       " (100990, '0000-00-00', 0),\n",
       " (100737, '0000-00-00', 0),\n",
       " (100797, '0000-00-00', 0),\n",
       " (100468, '0000-00-00', 0),\n",
       " (100743, '0000-00-00', 0),\n",
       " (100176, '0000-00-00', 0),\n",
       " (100323, '0000-00-00', 0),\n",
       " (100620, '0000-00-00', 0),\n",
       " (100127, '0000-00-00', 0),\n",
       " (100516, '0000-00-00', 0),\n",
       " (101028, '0000-00-00', 0),\n",
       " (100297, '0000-00-00', 0),\n",
       " (100211, '0000-00-00', 0),\n",
       " (100869, '0000-00-00', 0),\n",
       " (100997, '0000-00-00', 0),\n",
       " (100668, '0000-00-00', 0),\n",
       " (100875, '2017-3-5', 1),\n",
       " (100540, '0000-00-00', 0),\n",
       " (100431, '0000-00-00', 0),\n",
       " (100303, '0000-00-00', 0),\n",
       " (100190, '0000-00-00', 0),\n",
       " (100765, '0000-00-00', 0),\n",
       " (100052, '0000-00-00', 0),\n",
       " (100321, '0000-00-00', 0),\n",
       " (100958, '0000-00-00', 0),\n",
       " (100455, '0000-00-00', 0),\n",
       " (100600, '0000-00-00', 0),\n",
       " (100113, '0000-00-00', 0),\n",
       " (100552, '0000-00-00', 0),\n",
       " (100518, '0000-00-00', 0),\n",
       " (100320, '0000-00-00', 0),\n",
       " (100851, '0000-00-00', 0),\n",
       " (100380, '0000-00-00', 0),\n",
       " (100414, '0000-00-00', 0),\n",
       " (100929, '0000-00-00', 0),\n",
       " (100856, '0000-00-00', 0)]"
      ]
     },
     "execution_count": 5,
     "metadata": {},
     "output_type": "execute_result"
    }
   ],
   "source": [
    "#объединим контракты, чтобы на выходе таблица содержала в себе данные типа: номер контракта(уникальный),\n",
    "#дата просрочки(или же 0000-00-00 если ее нет) и флаг дефолта(фиктивная перменная 0 или 1)\n",
    "default_risk_horizon = list(set(default_risk_horizon))\n",
    "print (len(default_risk_horizon))\n",
    "default_risk_horizon"
   ]
  },
  {
   "cell_type": "code",
   "execution_count": 6,
   "metadata": {},
   "outputs": [],
   "source": [
    "#соединяемся с созданной базой данных data_base\n",
    "#создаем пустую заготовку в базе данных для размещения данных по дефолтам на горизоне риска\n",
    "conn = sqlite3.connect(\"data_base.db\")\n",
    "cursor = conn.cursor()\n",
    "cursor.execute(\"\"\"CREATE TABLE Risk_horizon12 (\n",
    "contract_number INT,\n",
    "default_date DATE,\n",
    "default_flag BOOLEAN)\"\"\".format(risk_horizon))\n",
    "\n",
    "conn.commit()"
   ]
  },
  {
   "cell_type": "code",
   "execution_count": 7,
   "metadata": {},
   "outputs": [],
   "source": [
    "#заполняем таблицу готовыми данными из таблицы default_risk_horizon\n",
    "cursor = conn.cursor()\n",
    "for i in default_risk_horizon:\n",
    "    cursor.execute(\"\"\"INSERT INTO Risk_horizon12 \n",
    "    VALUES\n",
    "    (%d, '%s', %d)\"\"\".format(risk_horizon) % (\n",
    "    i[0],\n",
    "    i[1],\n",
    "    i[2]))\n",
    "    \n",
    "conn.commit()"
   ]
  },
  {
   "cell_type": "code",
   "execution_count": 8,
   "metadata": {},
   "outputs": [],
   "source": [
    "#по ходу написания кода было обнаружено, что контракт 100875 не имеет данных о платежах, поэтому считать его за \"дефолт\" мы не будем\n",
    "#уберем данный контракт из получившейся таблицы Risk_horizon12 \n",
    "conn = sqlite3.connect(\"data_base.db\")\n",
    "cursor = conn.cursor()\n",
    "\n",
    "cursor.execute(\"DELETE FROM Risk_horizon12 WHERE contract_number = 100875\")\n",
    "\n",
    "conn.commit()\n",
    "#делаем вывод, что на горизонте риска год нет дефолта"
   ]
  },
  {
   "cell_type": "code",
   "execution_count": null,
   "metadata": {},
   "outputs": [],
   "source": []
  }
 ],
 "metadata": {
  "kernelspec": {
   "display_name": "Python 3",
   "language": "python",
   "name": "python3"
  },
  "language_info": {
   "codemirror_mode": {
    "name": "ipython",
    "version": 3
   },
   "file_extension": ".py",
   "mimetype": "text/x-python",
   "name": "python",
   "nbconvert_exporter": "python",
   "pygments_lexer": "ipython3",
   "version": "3.7.1"
  }
 },
 "nbformat": 4,
 "nbformat_minor": 2
}
